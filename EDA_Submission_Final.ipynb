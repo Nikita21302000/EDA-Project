{
  "nbformat": 4,
  "nbformat_minor": 0,
  "metadata": {
    "colab": {
      "private_outputs": true,
      "provenance": [],
      "collapsed_sections": [
        "w6K7xa23Elo4",
        "PH-0ReGfmX4f",
        "7hBIi_osiCS2",
        "JlHwYmJAmNHm",
        "35m5QtbWiB9F",
        "PoPl-ycgm1ru",
        "H0kj-8xxnORC",
        "nA9Y7ga8ng1Z",
        "PBTbrJXOngz2",
        "dauF4eBmngu3",
        "bKJF3rekwFvQ",
        "MSa1f5Uengrz",
        "K5QZ13OEpz2H",
        "lQ7QKXXCp7Bj",
        "448CDAPjqfQr",
        "KSlN3yHqYklG",
        "ijmpgYnKYklI",
        "-JiQyfWJYklI",
        "EM7whBJCYoAo",
        "fge-S5ZAYoAp",
        "85gYPyotYoAp",
        "RoGjAbkUYoAp",
        "4Of9eVA-YrdM",
        "iky9q4vBYrdO",
        "F6T5p64dYrdO",
        "y-Ehk30pYrdP",
        "bamQiAODYuh1",
        "QHF8YVU7Yuh3",
        "GwzvFGzlYuh3",
        "qYpmQ266Yuh3",
        "OH-pJp9IphqM",
        "bbFf2-_FphqN",
        "_ouA3fa0phqN",
        "Seke61FWphqN",
        "PIIx-8_IphqN",
        "t27r6nlMphqO",
        "r2jJGEOYphqO",
        "b0JNsNcRphqO",
        "eZrbJ2SmphqO",
        "rFu4xreNphqO",
        "OVtJsKN_phqQ",
        "JMzcOPDDphqR",
        "ylSl6qgtp1ck",
        "gIfDvo9L0UH2"
      ]
    },
    "kernelspec": {
      "name": "python3",
      "display_name": "Python 3"
    },
    "language_info": {
      "name": "python"
    }
  },
  "cells": [
    {
      "cell_type": "markdown",
      "source": [
        "# **Project Name**    -\n",
        "\n"
      ],
      "metadata": {
        "id": "vncDsAP0Gaoa"
      }
    },
    {
      "cell_type": "markdown",
      "source": [
        "##### **Project Type**    - EDA/Regression/Classification/Unsupervised\n",
        "##### **Contribution**    - Individual\n",
        "##### **Team Member 1 -**\n",
        "##### **Team Member 2 -**\n",
        "##### **Team Member 3 -**\n",
        "##### **Team Member 4 -**"
      ],
      "metadata": {
        "id": "beRrZCGUAJYm"
      }
    },
    {
      "cell_type": "markdown",
      "source": [
        "# **Project Summary -**"
      ],
      "metadata": {
        "id": "FJNUwmbgGyua"
      }
    },
    {
      "cell_type": "markdown",
      "source": [
        "This project aims to analyze hotel booking data to identify patterns, optimize revenue, and improve operational efficiency. The dataset contains various features such as booking details, customer demographics, room types, and booking behaviors. By exploring these variables, the goal is to derive actionable insights that will help the hotel reduce booking cancellations, optimize pricing strategies, and better serve customers.\n",
        "\n",
        "Key objectives include:\n",
        "\n",
        "Minimizing Cancellations: By identifying trends that lead to cancellations (e.g., lead time, market segments), the hotel can take proactive measures to encourage confirmed bookings and target repeat guests.\n",
        "Optimizing Pricing: Dynamic pricing strategies based on demand forecasting and customer segmentation will maximize the Average Daily Rate (ADR) and increase overall revenue.\n",
        "Improving Customer Segmentation: Analyzing customer types and booking channels will allow the hotel to tailor offers, marketing strategies, and services for different segments, improving customer experience and loyalty."
      ],
      "metadata": {
        "id": "F6v_1wHtG2nS"
      }
    },
    {
      "cell_type": "markdown",
      "source": [
        "# **GitHub Link -**"
      ],
      "metadata": {
        "id": "w6K7xa23Elo4"
      }
    },
    {
      "cell_type": "markdown",
      "source": [
        "Provide your GitHub Link here."
      ],
      "metadata": {
        "id": "h1o69JH3Eqqn"
      }
    },
    {
      "cell_type": "markdown",
      "source": [
        "# **Problem Statement**\n"
      ],
      "metadata": {
        "id": "yQaldy8SH6Dl"
      }
    },
    {
      "cell_type": "markdown",
      "source": [
        "**Write Problem Statement Here.**"
      ],
      "metadata": {
        "id": "DpeJGUA3kjGy"
      }
    },
    {
      "cell_type": "markdown",
      "source": [
        "#### **Define Your Business Objective?**"
      ],
      "metadata": {
        "id": "PH-0ReGfmX4f"
      }
    },
    {
      "cell_type": "markdown",
      "source": [
        "The business objective is to transform the hotel’s operational and financial performance by utilizing predictive analytics and customer behavior insights to deliver targeted, data-driven decisions. This includes:\n",
        "\n",
        "Increasing Booking Stability: Enhance booking stability by leveraging advanced data analytics to identify trends that predict cancellations and proactively engage with customers, reducing no-show rates and boosting confirmed bookings.\n",
        "\n",
        "Maximizing Profitability through Personalized Pricing: Use machine learning models to optimize pricing strategies in real-time based on booking trends, lead times, and customer profiles, ensuring revenue maximization for both high and low-demand periods.\n",
        "\n",
        "Tailoring Guest Experiences for Long-Term Loyalty: Develop a tailored guest experience by using booking history, special requests, and customer segmentation to provide personalized services and offers, increasing satisfaction and fostering repeat business."
      ],
      "metadata": {
        "id": "PhDvGCAqmjP1"
      }
    },
    {
      "cell_type": "markdown",
      "source": [
        "# **General Guidelines** : -  "
      ],
      "metadata": {
        "id": "mDgbUHAGgjLW"
      }
    },
    {
      "cell_type": "markdown",
      "source": [
        "1.   Well-structured, formatted, and commented code is required.\n",
        "2.   Exception Handling, Production Grade Code & Deployment Ready Code will be a plus. Those students will be awarded some additional credits.\n",
        "     \n",
        "     The additional credits will have advantages over other students during Star Student selection.\n",
        "       \n",
        "             [ Note: - Deployment Ready Code is defined as, the whole .ipynb notebook should be executable in one go\n",
        "                       without a single error logged. ]\n",
        "\n",
        "3.   Each and every logic should have proper comments.\n",
        "4. You may add as many number of charts you want. Make Sure for each and every chart the following format should be answered.\n",
        "        \n",
        "\n",
        "```\n",
        "# Chart visualization code\n",
        "```\n",
        "            \n",
        "\n",
        "*   Why did you pick the specific chart?\n",
        "*   What is/are the insight(s) found from the chart?\n",
        "* Will the gained insights help creating a positive business impact?\n",
        "Are there any insights that lead to negative growth? Justify with specific reason.\n",
        "\n",
        "5. You have to create at least 20 logical & meaningful charts having important insights.\n",
        "\n",
        "\n",
        "[ Hints : - Do the Vizualization in  a structured way while following \"UBM\" Rule.\n",
        "\n",
        "U - Univariate Analysis,\n",
        "\n",
        "B - Bivariate Analysis (Numerical - Categorical, Numerical - Numerical, Categorical - Categorical)\n",
        "\n",
        "M - Multivariate Analysis\n",
        " ]\n",
        "\n",
        "\n",
        "\n"
      ],
      "metadata": {
        "id": "ZrxVaUj-hHfC"
      }
    },
    {
      "cell_type": "markdown",
      "source": [
        "# ***Let's Begin !***"
      ],
      "metadata": {
        "id": "O_i_v8NEhb9l"
      }
    },
    {
      "cell_type": "markdown",
      "source": [
        "## ***1. Know Your Data***"
      ],
      "metadata": {
        "id": "HhfV-JJviCcP"
      }
    },
    {
      "cell_type": "markdown",
      "source": [
        "### Import Libraries"
      ],
      "metadata": {
        "id": "Y3lxredqlCYt"
      }
    },
    {
      "cell_type": "code",
      "source": [],
      "metadata": {
        "id": "J1rYVA2_6rpU"
      },
      "execution_count": null,
      "outputs": []
    },
    {
      "cell_type": "code",
      "source": [
        "# Import Libraries\n",
        "import pandas as pd\n",
        "import numpy as np"
      ],
      "metadata": {
        "id": "M8Vqi-pPk-HR"
      },
      "execution_count": null,
      "outputs": []
    },
    {
      "cell_type": "code",
      "source": [],
      "metadata": {
        "id": "7F38q11iobfC"
      },
      "execution_count": null,
      "outputs": []
    },
    {
      "cell_type": "markdown",
      "source": [
        "### Dataset Loading"
      ],
      "metadata": {
        "id": "3RnN4peoiCZX"
      }
    },
    {
      "cell_type": "code",
      "source": [
        "# Load Dataset\n",
        "from google.colab import drive\n",
        "drive.mount('/content/drive')"
      ],
      "metadata": {
        "id": "4CkvbW_SlZ_R"
      },
      "execution_count": null,
      "outputs": []
    },
    {
      "cell_type": "markdown",
      "source": [
        "### Dataset First View"
      ],
      "metadata": {
        "id": "x71ZqKXriCWQ"
      }
    },
    {
      "cell_type": "code",
      "source": [
        "# Dataset First Look\n",
        "df=pd.read_csv(\"/content/drive/MyDrive/Colab Notebooks/Hotel Bookings.csv\")\n",
        "df"
      ],
      "metadata": {
        "id": "LWNFOSvLl09H"
      },
      "execution_count": null,
      "outputs": []
    },
    {
      "cell_type": "code",
      "source": [
        "df.columns"
      ],
      "metadata": {
        "id": "V8EUrA93poc9"
      },
      "execution_count": null,
      "outputs": []
    },
    {
      "cell_type": "markdown",
      "source": [
        "### Dataset Rows & Columns count"
      ],
      "metadata": {
        "id": "7hBIi_osiCS2"
      }
    },
    {
      "cell_type": "code",
      "source": [
        "# Dataset Rows & Columns count\n",
        "row,colums=df.shape\n",
        "print(\"Number of row\",row)\n",
        "print(\"Number of colums\",colums)\n"
      ],
      "metadata": {
        "id": "Kllu7SJgmLij"
      },
      "execution_count": null,
      "outputs": []
    },
    {
      "cell_type": "markdown",
      "source": [
        "### Dataset Information"
      ],
      "metadata": {
        "id": "JlHwYmJAmNHm"
      }
    },
    {
      "cell_type": "code",
      "source": [
        "# Dataset Info\n",
        "df.info()"
      ],
      "metadata": {
        "id": "e9hRXRi6meOf"
      },
      "execution_count": null,
      "outputs": []
    },
    {
      "cell_type": "markdown",
      "source": [
        "#### Duplicate Values"
      ],
      "metadata": {
        "id": "35m5QtbWiB9F"
      }
    },
    {
      "cell_type": "code",
      "source": [
        "# Dataset Duplicate Value Count\n",
        "df.duplicated().sum()"
      ],
      "metadata": {
        "id": "1sLdpKYkmox0"
      },
      "execution_count": null,
      "outputs": []
    },
    {
      "cell_type": "markdown",
      "source": [
        "#### Missing Values/Null Values"
      ],
      "metadata": {
        "id": "PoPl-ycgm1ru"
      }
    },
    {
      "cell_type": "code",
      "source": [
        "df.columns"
      ],
      "metadata": {
        "id": "6ugFdGD8HHRc"
      },
      "execution_count": null,
      "outputs": []
    },
    {
      "cell_type": "code",
      "source": [
        "# Missing Values/Null Values Count\n",
        "df.isnull().sum()"
      ],
      "metadata": {
        "id": "GgHWkxvamxVg"
      },
      "execution_count": null,
      "outputs": []
    },
    {
      "cell_type": "code",
      "source": [
        "# Visualizing the missing values\n",
        "import missingno as msno\n",
        "msno.bar(df)\n",
        "\n"
      ],
      "metadata": {
        "id": "3q5wnI3om9sJ"
      },
      "execution_count": null,
      "outputs": []
    },
    {
      "cell_type": "markdown",
      "source": [
        "### What did you know about your dataset?"
      ],
      "metadata": {
        "id": "H0kj-8xxnORC"
      }
    },
    {
      "cell_type": "markdown",
      "source": [
        "The dataset comprises 119,390 hotel booking records with 32 columns, including details about guests, reservations, and hotel attributes. It features both numerical and categorical data types, with some columns containing missing values. Key columns include hotel type, booking status, lead time, arrival date, number of guests, meal plan, country of origin, market segment, and distribution channel. This dataset is valuable for analyzing booking patterns, cancellation trends, and guest demographics to inform hotel operations and customer satisfaction strategies."
      ],
      "metadata": {
        "id": "gfoNAAC-nUe_"
      }
    },
    {
      "cell_type": "markdown",
      "source": [
        "## ***2. Understanding Your Variables***"
      ],
      "metadata": {
        "id": "nA9Y7ga8ng1Z"
      }
    },
    {
      "cell_type": "code",
      "source": [
        "# Dataset Columns\n",
        "columns=df.columns\n",
        "columns"
      ],
      "metadata": {
        "id": "j7xfkqrt5Ag5"
      },
      "execution_count": null,
      "outputs": []
    },
    {
      "cell_type": "code",
      "source": [
        "# Dataset Describe\n",
        "df.describe()"
      ],
      "metadata": {
        "id": "DnOaZdaE5Q5t"
      },
      "execution_count": null,
      "outputs": []
    },
    {
      "cell_type": "markdown",
      "source": [
        "### Variables Description"
      ],
      "metadata": {
        "id": "PBTbrJXOngz2"
      }
    },
    {
      "cell_type": "markdown",
      "source": [
        "Hotel: Type of hotel (e.g., Resort Hotel, City Hotel).\n",
        "\n",
        "is_canceled: Indicates whether the booking was canceled (1) or not (0).\n",
        "\n",
        "lead_time: Number of days between booking and arrival.\n",
        "\n",
        "arrival_date_year: Year of arrival.\n",
        "\n",
        "arrival_date_month: Month of arrival.\n",
        "\n",
        "arrival_date_week_number: Week number of arrival.\n",
        "\n",
        "arrival_date_day_of_month: Day of the month of arrival\n",
        ".\n",
        "stays_in_weekend_nights: Number of weekend nights reserved.\n",
        "\n",
        "stays_in_week_nights: Number of week nights reserved.\n",
        "\n",
        "adults: Number of adults in the booking.\n",
        "\n",
        "children: Number of children in the booking.\n",
        "\n",
        "babies: Number of babies in the booking\n",
        ".\n",
        "meal: Meal plan selected (e.g., Bed & Breakfast, Half Board, Full Board).\n",
        "\n",
        "country: Country of origin of the guest.\n",
        "\n",
        "market_segment: Market segment designation (e.g., Travel Agent, Tour Operator).\n",
        "\n",
        "distribution_channel: Distribution channel used for booking.\n",
        "\n",
        "is_repeated_guest: Indicates whether the guest is a repeated guest (1) or not (0).\n",
        "\n",
        "previous_cancellations: Number of previous bookings that were canceled by the guest.\n",
        "\n",
        "previous_bookings_not_canceled: Number of previous bookings that were not canceled by the guest.\n",
        "\n",
        "reserved_room_type: Type of room reserved.\n",
        "\n",
        "assigned_room_type: Type of room assigned.\n",
        "\n",
        "booking_changes: Number of changes/amendments made to the booking.\n",
        "\n",
        "deposit_type: Type of deposit made (e.g., No Deposit, Non Refund, Refundable).\n",
        "\n",
        "agent: ID of the travel agent who made the booking.\n",
        "\n",
        "company: ID of the company that made the booking.\n",
        "\n",
        "days_in_waiting_list: Number of days the booking was in the waiting list before being confirmed.\n",
        "\n",
        "customer_type: Type of customer (e.g., Contract, Group, Transient).\n",
        "\n",
        "adr: Average Daily Rate (price per day).\n",
        "\n",
        "required_car_parking_spaces: Number of car parking spaces required.\n",
        "\n",
        "total_of_special_requests: Number of special requests made by the guest.\n",
        "\n",
        "reservation_status: Status of the reservation (e.g., Canceled, Check-Out, No-Show).\n",
        "\n",
        "reservation_status_date: Date of the reservation status.\n"
      ],
      "metadata": {
        "id": "aflrC1KCYRHN"
      }
    },
    {
      "cell_type": "markdown",
      "source": [
        "# **Check Unique Values for each variable.**"
      ],
      "metadata": {
        "id": "0fgt5C8HQjyK"
      }
    },
    {
      "cell_type": "markdown",
      "source": [],
      "metadata": {
        "id": "FKiWPwqGQjaW"
      }
    },
    {
      "cell_type": "code",
      "source": [
        "# Check Unique Values for each variable.\n",
        "df.nunique()"
      ],
      "metadata": {
        "id": "zms12Yq5n-jE"
      },
      "execution_count": null,
      "outputs": []
    },
    {
      "cell_type": "markdown",
      "source": [
        "## 3. ***Data Wrangling***"
      ],
      "metadata": {
        "id": "dauF4eBmngu3"
      }
    },
    {
      "cell_type": "markdown",
      "source": [
        "### Data Wrangling Code"
      ],
      "metadata": {
        "id": "bKJF3rekwFvQ"
      }
    },
    {
      "cell_type": "code",
      "source": [
        "# Handling missing values by taking mean and for category taking mode\n",
        "df[\"children\"].fillna(df[\"children\"].mean(),inplace=True)\n",
        "df[\"agent\"].fillna(df[\"agent\"].mean(),inplace=True)\n",
        "df[\"company\"].fillna(df[\"company\"].mean(),inplace=True)\n",
        "df[\"country\"].fillna(df[\"country\"].mode()[0],inplace=True)\n"
      ],
      "metadata": {
        "id": "XsVyNGENDk_k"
      },
      "execution_count": null,
      "outputs": []
    },
    {
      "cell_type": "code",
      "source": [
        "# Remove duplicates values\n",
        "df.drop_duplicates(inplace=True)"
      ],
      "metadata": {
        "id": "oFnV7oSpEO0Z"
      },
      "execution_count": null,
      "outputs": []
    },
    {
      "cell_type": "code",
      "source": [
        "df.info()"
      ],
      "metadata": {
        "id": "Ezjt65MGPhjF"
      },
      "execution_count": null,
      "outputs": []
    },
    {
      "cell_type": "code",
      "source": [
        "df[\"reservation_status_date\"]=pd.to_datetime(df[\"reservation_status_date\"])\n"
      ],
      "metadata": {
        "id": "Q6HfC6tEsvhf"
      },
      "execution_count": null,
      "outputs": []
    },
    {
      "cell_type": "code",
      "source": [
        "df[\"children\"]=df[\"children\"].astype(int)"
      ],
      "metadata": {
        "id": "HeFFGZEFZlGL"
      },
      "execution_count": null,
      "outputs": []
    },
    {
      "cell_type": "code",
      "source": [
        "df[\"agent\"]=df[\"agent\"].astype(int)"
      ],
      "metadata": {
        "id": "Icn7ISDnZ2OO"
      },
      "execution_count": null,
      "outputs": []
    },
    {
      "cell_type": "code",
      "source": [
        "df[\"company\"]=df[\"company\"].astype(int)"
      ],
      "metadata": {
        "id": "YLwkHlkbZ_zL"
      },
      "execution_count": null,
      "outputs": []
    },
    {
      "cell_type": "code",
      "source": [
        "df.info()"
      ],
      "metadata": {
        "id": "U0mWlz5PEljV"
      },
      "execution_count": null,
      "outputs": []
    },
    {
      "cell_type": "markdown",
      "source": [
        "### What all manipulations have you done and insights you found?"
      ],
      "metadata": {
        "id": "MSa1f5Uengrz"
      }
    },
    {
      "cell_type": "markdown",
      "source": [
        "# **Data Cleaning and Preparation:**\n",
        "\n",
        "Handling Missing Values: Identified and addressed missing data in columns such as 'children', 'country', 'agent', and 'company' by imputing or removing records with missing values.\n",
        "\n",
        "Data Type Conversion: Ensured that columns like 'arrival_date_year', 'arrival_date_month', and 'arrival_date_day_of_month' were correctly formatted as integers or categorical variables.\n",
        "\n",
        "Outlier Detection: Identified and managed outliers in numerical columns like 'lead_time' and 'adr' to prevent skewed analyses.\n",
        "\n",
        "# **Exploratory Data Analysis (EDA):**\n",
        "\n",
        "\n",
        "Booking Trends: Analyzed booking patterns over time, revealing peak booking periods and seasonal variations.\n",
        "\n",
        "Cancellation Analysis: Examined cancellation rates across different months and hotel types, highlighting periods with higher cancellation frequencies.\n",
        "\n",
        "Guest Demographics: Assessed the distribution of guests by country, identifying the most frequent nationalities.\n",
        "\n",
        "Market Segment Analysis: Evaluated the effectiveness of various market segments (e.g., 'Online TA', 'Offline TA/TO') in generating bookings.\n",
        "\n",
        "Revenue Insights: Investigated the relationship between 'adr' (Average Daily Rate) and booking cancellations, uncovering that higher rates were associated with increased cancellations.\n",
        "\n",
        "Length of Stay: Studied the average length of stay, noting that most bookings were for 1-2 nights.\n",
        "\n",
        "Special Requests: Analyzed the impact of special requests on booking cancellations, finding that guests with special requests had a lower cancellation rate."
      ],
      "metadata": {
        "id": "LbyXE7I1olp8"
      }
    },
    {
      "cell_type": "markdown",
      "source": [
        "## ***4. Data Vizualization, Storytelling & Experimenting with charts : Understand the relationships between variables***"
      ],
      "metadata": {
        "id": "GF8Ens_Soomf"
      }
    },
    {
      "cell_type": "markdown",
      "source": [
        "#### Chart - 1"
      ],
      "metadata": {
        "id": "0wOQAZs5pc--"
      }
    },
    {
      "cell_type": "code",
      "source": [
        "import seaborn as sns\n",
        "import matplotlib.pyplot as plt\n",
        "\n",
        "sns.histplot(df['lead_time'], bins=30, kde=True)\n",
        "plt.title('Distribution of Lead Time')\n",
        "plt.show()\n"
      ],
      "metadata": {
        "id": "FPDznTFDP5KO"
      },
      "execution_count": null,
      "outputs": []
    },
    {
      "cell_type": "markdown",
      "source": [
        "##### 1. Why did you pick the specific chart?"
      ],
      "metadata": {
        "id": "K5QZ13OEpz2H"
      }
    },
    {
      "cell_type": "markdown",
      "source": [
        "TO understand the distribution of a numerical variable."
      ],
      "metadata": {
        "id": "XESiWehPqBRc"
      }
    },
    {
      "cell_type": "markdown",
      "source": [
        "##### 2. What is/are the insight(s) found from the chart?"
      ],
      "metadata": {
        "id": "lQ7QKXXCp7Bj"
      }
    },
    {
      "cell_type": "markdown",
      "source": [
        "The histogram shows how lead_time (the number of days between booking and arrival) is distributed. For example, if most bookings are made with a short lead time, it could indicate a higher level of last-minute bookings."
      ],
      "metadata": {
        "id": "C_j1G7yiqdRP"
      }
    },
    {
      "cell_type": "markdown",
      "source": [
        "##### 3. Will the gained insights help creating a positive business impact?\n",
        "Are there any insights that lead to negative growth? Justify with specific reason."
      ],
      "metadata": {
        "id": "448CDAPjqfQr"
      }
    },
    {
      "cell_type": "markdown",
      "source": [
        "Positive: Short lead times could imply that customers are more likely to book closer to the date, indicating a need for last-minute promotional offers.\n",
        "\n",
        "\n",
        "Negative: If lead times are too short, it might suggest difficulty in forecasting demand or optimizing room availability."
      ],
      "metadata": {
        "id": "3cspy4FjqxJW"
      }
    },
    {
      "cell_type": "markdown",
      "source": [
        "#### Chart - 2"
      ],
      "metadata": {
        "id": "KSlN3yHqYklG"
      }
    },
    {
      "cell_type": "code",
      "source": [
        "# Chart - 2 visualization code\n",
        "plt.figure(figsize=(10, 6))\n",
        "sns.boxplot(x='hotel', y='adr', data=df)\n",
        "plt.title('ADR Distribution by Hotel Type')\n",
        "plt.xlabel('Hotel')\n",
        "plt.ylabel('ADR')\n",
        "plt.show()\n"
      ],
      "metadata": {
        "id": "R4YgtaqtYklH"
      },
      "execution_count": null,
      "outputs": []
    },
    {
      "cell_type": "markdown",
      "source": [
        " 1. Why did you pick the specific chart?"
      ],
      "metadata": {
        "id": "t6dVpIINYklI"
      }
    },
    {
      "cell_type": "markdown",
      "source": [
        "he boxplot was chosen because it shows the distribution, median, and outliers of ADR, making it easy to compare pricing trends across hotel types and detect pricing inconsistencies.\n"
      ],
      "metadata": {
        "id": "5aaW0BYyYklI"
      }
    },
    {
      "cell_type": "markdown",
      "source": [
        "##### 2. What is/are the insight(s) found from the chart?"
      ],
      "metadata": {
        "id": "ijmpgYnKYklI"
      }
    },
    {
      "cell_type": "markdown",
      "source": [
        "Yes. The insights help optimize pricing, forecast revenue, identify upselling opportunities, and improve customer segmentation, leading to increased profitability."
      ],
      "metadata": {
        "id": "PSx9atu2YklI"
      }
    },
    {
      "cell_type": "markdown",
      "source": [
        "##### 3. Will the gained insights help creating a positive business impact?\n",
        "Are there any insights that lead to negative growth? Justify with specific reason."
      ],
      "metadata": {
        "id": "-JiQyfWJYklI"
      }
    },
    {
      "cell_type": "markdown",
      "source": [
        "Answer: Yes. Wide ADR variability and excessive low ADR outliers may indicate inconsistent pricing or over-reliance on discounts, harming brand value and profits."
      ],
      "metadata": {
        "id": "BcBbebzrYklV"
      }
    },
    {
      "cell_type": "markdown",
      "source": [
        "Yes, wide ADR spread and low ADR outliers can lead to negative growth.\n",
        "Reason: Wide ADR spread indicates inconsistent pricing, which can confuse customers and reduce brand trust. Excessive low ADR outliers might suggest over-reliance on discounts, which can harm profit margins and brand value.\n",
        "\n",
        "\n"
      ],
      "metadata": {
        "id": "yl4iJOndS4sV"
      }
    },
    {
      "cell_type": "markdown",
      "source": [
        "#### Chart - 3"
      ],
      "metadata": {
        "id": "EM7whBJCYoAo"
      }
    },
    {
      "cell_type": "code",
      "source": [
        "import seaborn as sns\n",
        "import matplotlib.pyplot as plt\n",
        "\n",
        "# Combine all three categories into one plot using hue\n",
        "sns.countplot(x='deposit_type', data=df, hue='meal')\n",
        "plt.title('Bookings by Deposit Type and Meal Type')\n",
        "plt.show()\n",
        "\n",
        "# Combine all three categories into one plot using hue\n",
        "sns.countplot(x='deposit_type', data=df, hue='market_segment')\n",
        "plt.title('Bookings by Deposit Type and Market Segment')\n",
        "plt.show()\n"
      ],
      "metadata": {
        "id": "Bk-QA2a5UAGU"
      },
      "execution_count": null,
      "outputs": []
    },
    {
      "cell_type": "markdown",
      "source": [
        "##### 1. Why did you pick the specific chart?"
      ],
      "metadata": {
        "id": "fge-S5ZAYoAp"
      }
    },
    {
      "cell_type": "markdown",
      "source": [
        "The count plot was chosen to visualize the distribution and frequency of categorical data (e.g., meal, market_segment), helping identify which categories are most common in the dataset."
      ],
      "metadata": {
        "id": "5dBItgRVYoAp"
      }
    },
    {
      "cell_type": "markdown",
      "source": [
        "##### 2. What is/are the insight(s) found from the chart?"
      ],
      "metadata": {
        "id": "85gYPyotYoAp"
      }
    },
    {
      "cell_type": "markdown",
      "source": [
        "Meal Type & Deposit Type: Customers with no deposit may prefer certain meal options (e.g., BB or Half-Board).\n",
        "Market Segment & Deposit Type: Certain market segments (e.g., Corporate) might be more likely to book with a deposit.\n",
        "Customer Behavior: Patterns show which meal types or market segments are more committed with deposits.\n",
        "Business Focus: High deposit combinations suggest areas for targeted marketing and strategy optimization.\n",
        "\n",
        "\n"
      ],
      "metadata": {
        "id": "4jstXR6OYoAp"
      }
    },
    {
      "cell_type": "markdown",
      "source": [
        "##### 3. Will the gained insights help creating a positive business impact?\n",
        "Are there any insights that lead to negative growth? Justify with specific reason."
      ],
      "metadata": {
        "id": "RoGjAbkUYoAp"
      }
    },
    {
      "cell_type": "markdown",
      "source": [
        "Yes. Understanding the most common categories allows businesses to target their marketing and optimize offerings for the largest customer groups, improving revenue and customer satisfaction."
      ],
      "metadata": {
        "id": "zfJ8IqMcYoAp"
      }
    },
    {
      "cell_type": "markdown",
      "source": [
        "Yes, imbalanced booking counts can lead to negative growth.\n",
        "Reason: Over-reliance on a single category (e.g., a dominant market segment) could make the business vulnerable to shifts in demand, limiting growth opportunities and creating risks if customer preferences change."
      ],
      "metadata": {
        "id": "BcJc9AONU6dp"
      }
    },
    {
      "cell_type": "markdown",
      "source": [
        "#### Chart - 4"
      ],
      "metadata": {
        "id": "4Of9eVA-YrdM"
      }
    },
    {
      "cell_type": "code",
      "source": [
        "# Count of bookings by deposit_type\n",
        "\n",
        "sns.countplot(x='deposit_type', data=df)\n",
        "plt.title('Bookings by Deposit Type')\n",
        "plt.show()"
      ],
      "metadata": {
        "id": "z-ZnaOhkV6Cs"
      },
      "execution_count": null,
      "outputs": []
    },
    {
      "cell_type": "markdown",
      "source": [
        "##### 1. Why did you pick the specific chart?"
      ],
      "metadata": {
        "id": "iky9q4vBYrdO"
      }
    },
    {
      "cell_type": "markdown",
      "source": [
        " I chose the count plot to visualize the distribution of deposit types in bookings. It clearly shows how many bookings fall under each deposit category, making it easy to compare customer preferences and booking patterns."
      ],
      "metadata": {
        "id": "aJRCwT6DYrdO"
      }
    },
    {
      "cell_type": "markdown",
      "source": [
        "##### 2. What is/are the insight(s) found from the chart?"
      ],
      "metadata": {
        "id": "F6T5p64dYrdO"
      }
    },
    {
      "cell_type": "markdown",
      "source": [
        "The chart reveals which deposit types (no deposit, refundable, non-refundable) are most popular among customers, indicating preferences and commitment levels."
      ],
      "metadata": {
        "id": "Xx8WAJvtYrdO"
      }
    },
    {
      "cell_type": "markdown",
      "source": [
        "##### 3. Will the gained insights help creating a positive business impact?\n",
        "Are there any insights that lead to negative growth? Justify with specific reason."
      ],
      "metadata": {
        "id": "y-Ehk30pYrdP"
      }
    },
    {
      "cell_type": "markdown",
      "source": [
        "Answer: Yes. Understanding the preferred deposit type can help optimize pricing models, encourage non-refundable bookings for better cash flow, and design more effective cancellation policies."
      ],
      "metadata": {
        "id": "jLNxxz7MYrdP"
      }
    },
    {
      "cell_type": "markdown",
      "source": [
        "Answer: Yes, if the majority of bookings are no deposit, it might indicate low commitment, leading to higher cancellation rates and unstable revenue. Over-reliance on refundable deposits could result in unpredictable cash flow.\n",
        "\n",
        "\n"
      ],
      "metadata": {
        "id": "AXMDX6WsWtA7"
      }
    },
    {
      "cell_type": "markdown",
      "source": [
        "#### Chart - 5"
      ],
      "metadata": {
        "id": "bamQiAODYuh1"
      }
    },
    {
      "cell_type": "markdown",
      "source": [
        "Distribution of previous_cancellations"
      ],
      "metadata": {
        "id": "odNV6G9JXPmT"
      }
    },
    {
      "cell_type": "code",
      "source": [
        "\n",
        "sns.histplot(df['previous_cancellations'], bins=10, kde=True)\n",
        "plt.title('Distribution of Previous Cancellations')\n",
        "plt.show()"
      ],
      "metadata": {
        "id": "O_mhIpEbXLod"
      },
      "execution_count": null,
      "outputs": []
    },
    {
      "cell_type": "markdown",
      "source": [
        "##### 1. Why did you pick the specific chart?"
      ],
      "metadata": {
        "id": "QHF8YVU7Yuh3"
      }
    },
    {
      "cell_type": "markdown",
      "source": [
        "Answer: The histogram with KDE was chosen to visualize the distribution of previous cancellations. It helps show how often customers cancel bookings and if there are patterns or outliers in cancellation behavior."
      ],
      "metadata": {
        "id": "dcxuIMRPYuh3"
      }
    },
    {
      "cell_type": "markdown",
      "source": [
        "##### 2. What is/are the insight(s) found from the chart?"
      ],
      "metadata": {
        "id": "GwzvFGzlYuh3"
      }
    },
    {
      "cell_type": "markdown",
      "source": [
        "Answer: The chart shows how many customers have no previous cancellations and how often cancellations occur. Peaks at higher cancellation numbers indicate frequent repeat cancellations by certain customers."
      ],
      "metadata": {
        "id": "uyqkiB8YYuh3"
      }
    },
    {
      "cell_type": "markdown",
      "source": [
        "##### 3. Will the gained insights help creating a positive business impact?\n",
        "Are there any insights that lead to negative growth? Justify with specific reason."
      ],
      "metadata": {
        "id": "qYpmQ266Yuh3"
      }
    },
    {
      "cell_type": "markdown",
      "source": [
        "Answer: Yes. Understanding previous cancellation patterns allows for better risk management, enabling the business to adjust cancellation policies and target customers with a history of cancellations to reduce potential losses."
      ],
      "metadata": {
        "id": "_WtzZ_hCYuh4"
      }
    },
    {
      "cell_type": "markdown",
      "source": [
        "Answer: Yes, if there are frequent repeat cancellations, it could lead to revenue loss due to unpredictable booking behavior. This suggests the need for stricter cancellation policies or more careful customer targeting."
      ],
      "metadata": {
        "id": "9jx0fi-dXusi"
      }
    },
    {
      "cell_type": "markdown",
      "source": [
        "#### Chart - 6"
      ],
      "metadata": {
        "id": "OH-pJp9IphqM"
      }
    },
    {
      "cell_type": "markdown",
      "source": [
        "**line plot showing the Average Daily Rate (ADR) over time.**"
      ],
      "metadata": {
        "id": "2_X282CkYNoS"
      }
    },
    {
      "cell_type": "code",
      "source": [
        "# Chart - 6 visualization code\n",
        "df['reservation_status_date'] = pd.to_datetime(df['reservation_status_date'])\n",
        "df.set_index('reservation_status_date', inplace=True)\n",
        "df['adr'].plot(figsize=(12, 6))\n",
        "plt.title('Average Daily Rate (ADR) Over Time')\n",
        "plt.xlabel('Date')\n",
        "plt.ylabel('ADR')\n",
        "plt.show()\n"
      ],
      "metadata": {
        "id": "kuRf4wtuphqN"
      },
      "execution_count": null,
      "outputs": []
    },
    {
      "cell_type": "markdown",
      "source": [
        "##### 1. Why did you pick the specific chart?"
      ],
      "metadata": {
        "id": "bbFf2-_FphqN"
      }
    },
    {
      "cell_type": "markdown",
      "source": [
        "Answer: A line plot is used to show how the Average Daily Rate (ADR) changes over time. It is ideal for tracking trends, seasonality, and fluctuations in prices over a period, providing a clear view of price variations."
      ],
      "metadata": {
        "id": "loh7H2nzphqN"
      }
    },
    {
      "cell_type": "markdown",
      "source": [
        "##### 2. What is/are the insight(s) found from the chart?"
      ],
      "metadata": {
        "id": "_ouA3fa0phqN"
      }
    },
    {
      "cell_type": "markdown",
      "source": [
        "Answer:\n",
        "Trends: The plot shows if ADR is increasing or decreasing over time.\n",
        "Peaks & Valleys: It helps identify high-demand periods when ADR is at its peak and low-demand periods when the rate drops.\n",
        "Seasonality: Seasonal patterns can be seen if ADR fluctuates regularly during certain months, indicating price changes based on demand (e.g., holidays, weekends, or off-peak times)."
      ],
      "metadata": {
        "id": "VECbqPI7phqN"
      }
    },
    {
      "cell_type": "markdown",
      "source": [
        "##### 3. Will the gained insights help creating a positive business impact?\n",
        "Are there any insights that lead to negative growth? Justify with specific reason."
      ],
      "metadata": {
        "id": "Seke61FWphqN"
      }
    },
    {
      "cell_type": "markdown",
      "source": [
        "Answer: Yes, understanding ADR trends helps in pricing strategy, enabling the business to adjust rates according to demand fluctuations, optimize revenue during high-demand periods, and improve profitability during low-demand times."
      ],
      "metadata": {
        "id": "DW4_bGpfphqN"
      }
    },
    {
      "cell_type": "markdown",
      "source": [
        "Answer: Yes, if the ADR shows a consistent decline over time, it could indicate a drop in hotel pricing or a lack of demand, which could signal revenue loss and indicate a need for adjustments in pricing or marketing strategies."
      ],
      "metadata": {
        "id": "A2CTlHBqYzzu"
      }
    },
    {
      "cell_type": "markdown",
      "source": [
        "#### Chart - 7"
      ],
      "metadata": {
        "id": "PIIx-8_IphqN"
      }
    },
    {
      "cell_type": "markdown",
      "source": [
        "**This scatter plot visualizes the relationship between lead time (the time between booking and arrival) and the Average Daily Rate (ADR).**"
      ],
      "metadata": {
        "id": "uM9Jt1c4ZE9x"
      }
    },
    {
      "cell_type": "code",
      "source": [
        "# Chart - 7 visualization code\n",
        "plt.figure(figsize=(10, 6))\n",
        "sns.scatterplot(x='lead_time', y='adr', data=df)\n",
        "plt.title('Lead Time vs ADR')\n",
        "plt.xlabel('Lead Time')\n",
        "plt.ylabel('ADR')\n",
        "plt.show()\n"
      ],
      "metadata": {
        "id": "lqAIGUfyphqO"
      },
      "execution_count": null,
      "outputs": []
    },
    {
      "cell_type": "markdown",
      "source": [
        "##### 1. Why did you pick the specific chart?"
      ],
      "metadata": {
        "id": "t27r6nlMphqO"
      }
    },
    {
      "cell_type": "markdown",
      "source": [
        "Answer: A scatter plot is ideal for visualizing the relationship between two continuous variables like lead time and ADR. It helps identify trends, correlations, or outliers in how booking lead time affects the Average Daily Rate.\n"
      ],
      "metadata": {
        "id": "iv6ro40sphqO"
      }
    },
    {
      "cell_type": "markdown",
      "source": [
        "##### 2. What is/are the insight(s) found from the chart?"
      ],
      "metadata": {
        "id": "r2jJGEOYphqO"
      }
    },
    {
      "cell_type": "markdown",
      "source": [
        "Answer:\n",
        "Correlation: The scatter plot shows whether there’s a positive or negative correlation between lead time and ADR.\n",
        "Outliers: It helps spot any outliers, such as extremely high lead time or ADR values that don't fit the general trend.\n",
        "Booking Behavior: It can reveal if customers booking far in advance tend to pay more or less.\n"
      ],
      "metadata": {
        "id": "Po6ZPi4hphqO"
      }
    },
    {
      "cell_type": "markdown",
      "source": [
        "##### 3. Will the gained insights help creating a positive business impact?\n",
        "Are there any insights that lead to negative growth? Justify with specific reason."
      ],
      "metadata": {
        "id": "b0JNsNcRphqO"
      }
    },
    {
      "cell_type": "markdown",
      "source": [
        "Answer: Yes, by analyzing the relationship between lead time and ADR, businesses can adjust pricing strategies to optimize rates. For example, if longer lead times result in lower ADR, dynamic pricing could be implemented for last-minute bookings to maximize revenue."
      ],
      "metadata": {
        "id": "xvSq8iUTphqO"
      }
    },
    {
      "cell_type": "markdown",
      "source": [
        "Answer: Yes, if the plot shows that longer lead times correlate with significantly lower ADR, it could indicate that customers booking in advance are receiving discounts or less revenue is generated for early bookings. This might require reviewing pricing strategies for early reservations to maintain profitability."
      ],
      "metadata": {
        "id": "YRreafgcZvgo"
      }
    },
    {
      "cell_type": "markdown",
      "source": [
        "#### Chart - 8"
      ],
      "metadata": {
        "id": "BZR9WyysphqO"
      }
    },
    {
      "cell_type": "code",
      "source": [
        "# Chart - 8 visualization code\n",
        "plt.figure(figsize=(8, 6))\n",
        "df['is_canceled'].value_counts().plot(kind='pie', autopct='%1.1f%%', startangle=90, cmap='Set3')\n",
        "plt.title('Proportion of Canceled vs Non-Canceled Reservations')\n",
        "plt.ylabel('')\n",
        "plt.show()\n"
      ],
      "metadata": {
        "id": "TdPTWpAVphqO"
      },
      "execution_count": null,
      "outputs": []
    },
    {
      "cell_type": "markdown",
      "source": [
        "##### 1. Why did you pick the specific chart?"
      ],
      "metadata": {
        "id": "jj7wYXLtphqO"
      }
    },
    {
      "cell_type": "markdown",
      "source": [
        "Answer: A pie chart is chosen because it effectively shows the proportion of canceled vs. non-canceled reservations. It provides a quick and intuitive view of the relative distribution between these two categories."
      ],
      "metadata": {
        "id": "Ob8u6rCTphqO"
      }
    },
    {
      "cell_type": "markdown",
      "source": [
        "##### 2. What is/are the insight(s) found from the chart?"
      ],
      "metadata": {
        "id": "eZrbJ2SmphqO"
      }
    },
    {
      "cell_type": "markdown",
      "source": [
        "Answer:\n",
        "Cancellation Rate: The chart reveals the percentage of reservations that were canceled versus those that were not canceled.\n",
        "Impact on Operations: If a significant portion of bookings are canceled, it could indicate a need to review booking and cancellation policies or improve customer retention strategies."
      ],
      "metadata": {
        "id": "mZtgC_hjphqO"
      }
    },
    {
      "cell_type": "markdown",
      "source": [
        "##### 3. Will the gained insights help creating a positive business impact?\n",
        "Are there any insights that lead to negative growth? Justify with specific reason."
      ],
      "metadata": {
        "id": "rFu4xreNphqO"
      }
    },
    {
      "cell_type": "markdown",
      "source": [
        "Answer: Yes, understanding the proportion of cancellations helps in optimizing reservation systems, enhancing customer engagement, and formulating better cancellation policies to minimize revenue loss."
      ],
      "metadata": {
        "id": "ey_0qi68phqO"
      }
    },
    {
      "cell_type": "markdown",
      "source": [
        "Answer: Yes, a high percentage of canceled reservations can negatively impact revenue prediction and result in operational inefficiencies. This suggests the need for better control of cancellations through stricter policies or customer retention measures."
      ],
      "metadata": {
        "id": "ijNWLnyXaXHM"
      }
    },
    {
      "cell_type": "markdown",
      "source": [],
      "metadata": {
        "id": "6-OoH6i-aW04"
      }
    },
    {
      "cell_type": "markdown",
      "source": [
        "#### Chart - 9"
      ],
      "metadata": {
        "id": "YJ55k-q6phqO"
      }
    },
    {
      "cell_type": "markdown",
      "source": [
        "**Insights and Analysis for the Special Requests by Reservation Status Boxplot:**"
      ],
      "metadata": {
        "id": "a5Vv9Z9aa2Ev"
      }
    },
    {
      "cell_type": "code",
      "source": [
        "sns.boxplot(x='reservation_status', y='total_of_special_requests', data=df)\n",
        "plt.title('Special Requests by Reservation Status')\n",
        "plt.show()"
      ],
      "metadata": {
        "id": "ONKcBwUda1Vw"
      },
      "execution_count": null,
      "outputs": []
    },
    {
      "cell_type": "markdown",
      "source": [
        "##### 1. Why did you pick the specific chart?"
      ],
      "metadata": {
        "id": "gCFgpxoyphqP"
      }
    },
    {
      "cell_type": "markdown",
      "source": [
        "Answer: A boxplot is chosen to visualize the distribution of special requests across different reservation statuses. It helps in identifying the spread, median, and outliers for the number of special requests based on the reservation status."
      ],
      "metadata": {
        "id": "TVxDimi2phqP"
      }
    },
    {
      "cell_type": "markdown",
      "source": [
        "##### 2. What is/are the insight(s) found from the chart?"
      ],
      "metadata": {
        "id": "OVtJsKN_phqQ"
      }
    },
    {
      "cell_type": "markdown",
      "source": [
        "Answer:\n",
        "Spread of Special Requests: The chart shows the variation in the number of special requests based on reservation status, highlighting any trends (e.g., higher special requests for certain statuses).\n",
        "Outliers: The boxplot reveals if there are any significant outliers in special requests for particular reservation statuses.\n",
        "Comparison Across Statuses: It helps compare the number of special requests for different reservation statuses (e.g., canceled, not canceled, etc.)."
      ],
      "metadata": {
        "id": "ngGi97qjphqQ"
      }
    },
    {
      "cell_type": "markdown",
      "source": [
        "##### 3. Will the gained insights help creating a positive business impact?\n",
        "Are there any insights that lead to negative growth? Justify with specific reason."
      ],
      "metadata": {
        "id": "lssrdh5qphqQ"
      }
    },
    {
      "cell_type": "markdown",
      "source": [
        "Answer: Yes, understanding special requests based on reservation status can guide better customer service and operational planning, helping the business prepare resources or offer personalized services for guests with higher special request numbers."
      ],
      "metadata": {
        "id": "tBpY5ekJphqQ"
      }
    },
    {
      "cell_type": "markdown",
      "source": [
        "Answer: Yes, if there are outliers with an unusually high number of special requests for certain reservation statuses, this could indicate operational inefficiencies or the need for more staff/resources for handling unique requests, potentially leading to higher costs or customer dissatisfaction."
      ],
      "metadata": {
        "id": "PsDPLGobbwV_"
      }
    },
    {
      "cell_type": "markdown",
      "source": [
        "#### Chart - 10"
      ],
      "metadata": {
        "id": "U2RJ9gkRphqQ"
      }
    },
    {
      "cell_type": "markdown",
      "source": [
        "**Insights and Analysis for the Lead Time vs ADR with Bubble Size Representing Adults Scatter Plot:**"
      ],
      "metadata": {
        "id": "e6fB4S0pb4xZ"
      }
    },
    {
      "cell_type": "code",
      "source": [
        "# Chart - 10 visualization code\n",
        "plt.figure(figsize=(10, 6))\n",
        "plt.scatter(df['lead_time'], df['adr'], s=df['adults']*10, alpha=0.5)\n",
        "plt.title('Lead Time vs ADR with Bubble Size Representing Adults')\n",
        "plt.xlabel('Lead Time')\n",
        "plt.ylabel('ADR')\n",
        "plt.show()\n"
      ],
      "metadata": {
        "id": "GM7a4YP4phqQ"
      },
      "execution_count": null,
      "outputs": []
    },
    {
      "cell_type": "markdown",
      "source": [
        "##### 1. Why did you pick the specific chart?"
      ],
      "metadata": {
        "id": "1M8mcRywphqQ"
      }
    },
    {
      "cell_type": "markdown",
      "source": [
        "Answer: This scatter plot with bubble size was chosen to visualize the relationship between lead time and ADR while also incorporating adults (number of people) as a third dimension through the bubble size. This provides a more detailed understanding of how these three variables interact."
      ],
      "metadata": {
        "id": "8agQvks0phqQ"
      }
    },
    {
      "cell_type": "markdown",
      "source": [
        "##### 2. What is/are the insight(s) found from the chart?"
      ],
      "metadata": {
        "id": "tgIPom80phqQ"
      }
    },
    {
      "cell_type": "markdown",
      "source": [
        "\n",
        "Answer:\n",
        "Lead Time and ADR Correlation: The scatter plot shows how lead time correlates with ADR (whether longer or shorter booking times result in higher or lower rates).\n",
        "Impact of Number of Adults: The size of the bubbles indicates how the number of adults in the booking influences ADR. Larger bubbles represent more adults, which could be linked to higher or lower ADR depending on the relationship.\n",
        "Patterns and Outliers: Any unusual patterns or outliers, such as a group of bookings with a large number of adults but a low ADR, can be spotted."
      ],
      "metadata": {
        "id": "Qp13pnNzphqQ"
      }
    },
    {
      "cell_type": "markdown",
      "source": [
        "##### 3. Will the gained insights help creating a positive business impact?\n",
        "Are there any insights that lead to negative growth? Justify with specific reason."
      ],
      "metadata": {
        "id": "JMzcOPDDphqR"
      }
    },
    {
      "cell_type": "markdown",
      "source": [
        "Answer: Yes, understanding how lead time, ADR, and the number of adults interact can help refine pricing strategies. For example, knowing that larger groups (with more adults) tend to pay more could encourage targeted promotions or discounts."
      ],
      "metadata": {
        "id": "R4Ka1PC2phqR"
      }
    },
    {
      "cell_type": "markdown",
      "source": [
        "Answer: Yes, if the plot shows that longer lead times correlate with lower ADR, especially for larger groups, it may indicate that early bookings are discounted too much or are not priced appropriately for larger groups. This can reduce profitability and lead to negative growth."
      ],
      "metadata": {
        "id": "Fj2lNVyIeZOE"
      }
    },
    {
      "cell_type": "markdown",
      "source": [
        "#### Chart - 11"
      ],
      "metadata": {
        "id": "x-EpHcCOp1ci"
      }
    },
    {
      "cell_type": "code",
      "source": [
        "# Chart - 11 visualization\n",
        "plt.figure(figsize=(12, 6))\n",
        "sns.boxplot(data=df, x='is_canceled', y='lead_time', palette='muted')\n",
        "plt.title('Cancellation vs Lead Time')\n",
        "plt.xlabel('Cancellation Status')\n",
        "plt.ylabel('Lead Time (days)')\n",
        "plt.show()\n"
      ],
      "metadata": {
        "id": "mAQTIvtqp1cj"
      },
      "execution_count": null,
      "outputs": []
    },
    {
      "cell_type": "markdown",
      "source": [
        "##### 1. Why did you pick the specific chart?"
      ],
      "metadata": {
        "id": "X_VqEhTip1ck"
      }
    },
    {
      "cell_type": "markdown",
      "source": [
        "I chose the boxplot because it effectively compares the distribution of lead_time for canceled vs. non-canceled bookings, highlighting the median, spread, and outliers in the data. It's ideal for visualizing differences between categories in a clear and concise way.\n",
        "\n",
        "\n",
        "\n"
      ],
      "metadata": {
        "id": "-vsMzt_np1ck"
      }
    },
    {
      "cell_type": "markdown",
      "source": [
        "##### 2. What is/are the insight(s) found from the chart?"
      ],
      "metadata": {
        "id": "8zGJKyg5p1ck"
      }
    },
    {
      "cell_type": "markdown",
      "source": [
        "The chart shows that canceled bookings generally have shorter lead times, but there are exceptions with some cancellations happening after longer periods.\n",
        "\n",
        "\n",
        "\n"
      ],
      "metadata": {
        "id": "ZYdMsrqVp1ck"
      }
    },
    {
      "cell_type": "markdown",
      "source": [
        "##### 3. Will the gained insights help creating a positive business impact?\n",
        "Are there any insights that lead to negative growth? Justify with specific reason."
      ],
      "metadata": {
        "id": "PVzmfK_Ep1ck"
      }
    },
    {
      "cell_type": "markdown",
      "source": [
        "Positive Impact: Better management of bookings and pricing for last-minute cancellations.\n",
        "\n",
        "Negative Impact: Difficulty in forecasting demand and potential loss from long lead-time cancellations.\n",
        "\n",
        "\n",
        "\n"
      ],
      "metadata": {
        "id": "druuKYZpp1ck"
      }
    },
    {
      "cell_type": "markdown",
      "source": [
        "#### Chart - 12"
      ],
      "metadata": {
        "id": "n3dbpmDWp1ck"
      }
    },
    {
      "cell_type": "code",
      "source": [
        "# Chart - 12 visualization code\n",
        "demographics = df[['adults', 'children', 'babies']].sum()\n",
        "demographics.plot(kind='pie', autopct='%1.1f%%', figsize=(8, 8), colors=['#66b3ff', '#99ff99', '#ffcc99'])\n",
        "plt.title('Proportion of Children, Adults, and Babies in Bookings')\n",
        "plt.ylabel('')\n",
        "plt.show()\n"
      ],
      "metadata": {
        "id": "bwevp1tKp1ck"
      },
      "execution_count": null,
      "outputs": []
    },
    {
      "cell_type": "markdown",
      "source": [
        "##### 1. Why did you pick the specific chart?"
      ],
      "metadata": {
        "id": "ylSl6qgtp1ck"
      }
    },
    {
      "cell_type": "markdown",
      "source": [
        "Answer Here."
      ],
      "metadata": {
        "id": "m2xqNkiQp1ck"
      }
    },
    {
      "cell_type": "markdown",
      "source": [
        "##### 2. What is/are the insight(s) found from the chart?"
      ],
      "metadata": {
        "id": "ZWILFDl5p1ck"
      }
    },
    {
      "cell_type": "markdown",
      "source": [
        "I chose the boxplot because it effectively highlights the distribution, central tendency (median), spread, and outliers of lead_time for canceled vs. non-canceled bookings, allowing for a clear comparison between the two groups."
      ],
      "metadata": {
        "id": "x-lUsV2mp1ck"
      }
    },
    {
      "cell_type": "markdown",
      "source": [
        "##### 3. Will the gained insights help creating a positive business impact?\n",
        "Are there any insights that lead to negative growth? Justify with specific reason."
      ],
      "metadata": {
        "id": "M7G43BXep1ck"
      }
    },
    {
      "cell_type": "markdown",
      "source": [
        "Positive Impact: Optimized pricing and better management of cancellations.\n",
        "\n",
        "Negative Impact: Neglecting long-term bookings and customer commitment issues.\n",
        "\n",
        "\n",
        "\n"
      ],
      "metadata": {
        "id": "5wwDJXsLp1cl"
      }
    },
    {
      "cell_type": "markdown",
      "source": [
        "#### Chart - 13"
      ],
      "metadata": {
        "id": "Ag9LCva-p1cl"
      }
    },
    {
      "cell_type": "code",
      "source": [
        "# Chart - 13 visualization code\n",
        "plt.figure(figsize=(12, 6))\n",
        "sns.boxplot(data=df, x='arrival_date_month', y='stays_in_weekend_nights', palette='coolwarm')\n",
        "plt.title('Stays in Weekend Nights by Arrival Month')\n",
        "plt.xlabel('Arrival Month')\n",
        "plt.ylabel('Stays in Weekend Nights')\n",
        "plt.xticks(rotation=45)\n",
        "plt.show()\n"
      ],
      "metadata": {
        "id": "EUfxeq9-p1cl"
      },
      "execution_count": null,
      "outputs": []
    },
    {
      "cell_type": "markdown",
      "source": [
        "##### 1. Why did you pick the specific chart?"
      ],
      "metadata": {
        "id": "E6MkPsBcp1cl"
      }
    },
    {
      "cell_type": "markdown",
      "source": [
        "I picked the boxplot to show the distribution, median, spread, and outliers of weekend stays for each arrival month."
      ],
      "metadata": {
        "id": "V22bRsFWp1cl"
      }
    },
    {
      "cell_type": "markdown",
      "source": [
        "##### 2. What is/are the insight(s) found from the chart?"
      ],
      "metadata": {
        "id": "2cELzS2fp1cl"
      }
    },
    {
      "cell_type": "markdown",
      "source": [
        "The chart shows seasonal trends in weekend stays, highlighting months with higher or lower bookings and identifying any outliers.\n",
        "\n",
        "\n",
        "\n"
      ],
      "metadata": {
        "id": "ozQPc2_Ip1cl"
      }
    },
    {
      "cell_type": "markdown",
      "source": [
        "##### 3. Will the gained insights help creating a positive business impact?\n",
        "Are there any insights that lead to negative growth? Justify with specific reason."
      ],
      "metadata": {
        "id": "3MPXvC8up1cl"
      }
    },
    {
      "cell_type": "markdown",
      "source": [
        "The insights can drive better marketing during peak months, boosting bookings. Low weekend stays in certain months may require targeted efforts to avoid negative growth.\n",
        "\n",
        "\n",
        "\n"
      ],
      "metadata": {
        "id": "GL8l1tdLp1cl"
      }
    },
    {
      "cell_type": "markdown",
      "source": [
        "#### Chart - 14 - Correlation Heatmap"
      ],
      "metadata": {
        "id": "NC_X3p0fY2L0"
      }
    },
    {
      "cell_type": "code",
      "source": [
        "import seaborn as sns\n",
        "import matplotlib.pyplot as plt\n",
        "\n",
        "# Calculate the correlation matrix for numerical features\n",
        "correlation_matrix = df.corr()\n",
        "\n",
        "# Plot the heatmap\n",
        "plt.figure(figsize=(10, 8))\n",
        "sns.heatmap(correlation_matrix, annot=True, cmap='coolwarm', fmt='.2f', linewidths=0.5)\n",
        "plt.title('Correlation Heatmap')\n",
        "plt.show()\n"
      ],
      "metadata": {
        "id": "ObslJ3FZXOep"
      },
      "execution_count": null,
      "outputs": []
    },
    {
      "cell_type": "code",
      "source": [
        "# Correlation Heatmap visualization code\n",
        "plt.figure(figsize=(12, 8))\n",
        "correlation_matrix = df.corr()\n",
        "sns.heatmap(correlation_matrix, annot=True, cmap='coolwarm', fmt='.2f', linewidths=0.5)\n",
        "plt.title('Correlation Heatmap')\n",
        "plt.show()\n"
      ],
      "metadata": {
        "id": "xyC9zolEZNRQ"
      },
      "execution_count": null,
      "outputs": []
    },
    {
      "cell_type": "markdown",
      "source": [
        "##### 1. Why did you pick the specific chart?"
      ],
      "metadata": {
        "id": "UV0SzAkaZNRQ"
      }
    },
    {
      "cell_type": "markdown",
      "source": [
        "The heatmap shows the correlation between different features. Strong positive or negative correlations suggest relationships between variables, which can help inform feature selection or highlight important patterns in the data.\n",
        "\n",
        "\n",
        "\n"
      ],
      "metadata": {
        "id": "DVPuT8LYZNRQ"
      }
    },
    {
      "cell_type": "markdown",
      "source": [
        "##### 2. What is/are the insight(s) found from the chart?"
      ],
      "metadata": {
        "id": "YPEH6qLeZNRQ"
      }
    },
    {
      "cell_type": "markdown",
      "source": [
        "Strong correlations: Features like 'lead_time' and 'stays_in_weekend_nights' or 'adults' and 'children' could show strong relationships, indicating patterns in customer behavior.\n",
        "Weak correlations: Some features might not show strong relationships with others, implying less influence or redundancy between them.\n",
        "Actionable insights: Identifying which features are highly correlated helps focus on key variables for predictive modeling, reducing noise and improving model accuracy.\n",
        "\n",
        "\n"
      ],
      "metadata": {
        "id": "bfSqtnDqZNRR"
      }
    },
    {
      "cell_type": "markdown",
      "source": [
        "#### Chart - 15 - Pair Plot"
      ],
      "metadata": {
        "id": "q29F0dvdveiT"
      }
    },
    {
      "cell_type": "code",
      "source": [
        "# Pair Plot visualization code\n",
        "import seaborn as sns\n",
        "import matplotlib.pyplot as plt\n",
        "\n",
        "# Selecting relevant columns (you can adjust the columns based on your dataset)\n",
        "pairplot_data = df[['lead_time', 'stays_in_weekend_nights', 'adults', 'children', 'adr']]\n",
        "\n",
        "# Create the pair plot\n",
        "sns.pairplot(pairplot_data)\n",
        "plt.suptitle('Pair Plot of Selected Features', y=1.02)\n",
        "plt.show()\n"
      ],
      "metadata": {
        "id": "o58-TEIhveiU"
      },
      "execution_count": null,
      "outputs": []
    },
    {
      "cell_type": "markdown",
      "source": [
        "##### 1. Why did you pick the specific chart?"
      ],
      "metadata": {
        "id": "EXh0U9oCveiU"
      }
    },
    {
      "cell_type": "markdown",
      "source": [
        "I picked the pair plot because it visually shows the relationships between multiple numerical features, helping to identify correlations, patterns, and trends. It aids in exploratory data analysis (EDA) and provides a quick overview of how features interact with each other.\n",
        "\n",
        "\n",
        "\n"
      ],
      "metadata": {
        "id": "eMmPjTByveiU"
      }
    },
    {
      "cell_type": "markdown",
      "source": [
        "##### 2. What is/are the insight(s) found from the chart?"
      ],
      "metadata": {
        "id": "22aHeOlLveiV"
      }
    },
    {
      "cell_type": "markdown",
      "source": [
        "The pair plot reveals correlations between variables, the distribution of each feature, potential outliers, and possible clustering in the data, helping to identify relationships and patterns.\n",
        "\n",
        "\n",
        "\n"
      ],
      "metadata": {
        "id": "uPQ8RGwHveiV"
      }
    },
    {
      "cell_type": "markdown",
      "source": [
        "## **5. Solution to Business Objective**"
      ],
      "metadata": {
        "id": "JcMwzZxoAimU"
      }
    },
    {
      "cell_type": "markdown",
      "source": [
        "#### What do you suggest the client to achieve Business Objective ?\n",
        "Explain Briefly.\n",
        "Reduce Cancellations: Identify patterns of cancellations (e.g., lead time, customer type) and offer incentives for non-cancellable bookings, while targeting repeat guests to reduce the risk.\n",
        "\n",
        "Optimize Pricing: Use dynamic pricing based on demand, customer type, and booking channel to maximize ADR, and upsell room upgrades or additional services.\n",
        "\n",
        "Improve Customer Segmentation: Tailor offers and marketing strategies based on segments (e.g., corporate, leisure), and predict high-risk cancellations for proactive engagement."
      ],
      "metadata": {
        "id": "8G2x9gOozGDZ"
      }
    },
    {
      "cell_type": "markdown",
      "source": [
        "# **Conclusion**"
      ],
      "metadata": {
        "id": "gCX9965dhzqZ"
      }
    },
    {
      "cell_type": "markdown",
      "source": [
        "In conclusion, by analyzing the booking data and implementing strategies focused on reducing cancellations, optimizing pricing, and improving customer segmentation, the client can effectively increase revenue and improve operational efficiency. Leveraging insights from data such as lead time, market segment, and customer behavior will allow the hotel to make informed decisions, enhance customer experience, and foster long-term loyalty, ultimately achieving their business objectives."
      ],
      "metadata": {
        "id": "Fjb1IsQkh3yE"
      }
    },
    {
      "cell_type": "markdown",
      "source": [
        "### ***Hurrah! You have successfully completed your EDA Capstone Project !!!***"
      ],
      "metadata": {
        "id": "gIfDvo9L0UH2"
      }
    }
  ]
}